{
 "cells": [
  {
   "cell_type": "code",
   "execution_count": 42,
   "metadata": {},
   "outputs": [
    {
     "name": "stdout",
     "output_type": "stream",
     "text": [
      "str length: 51\n",
      "initial str size: 408\n",
      "count of F = 4\n",
      "count of O = 6\n",
      "count of S = 3\n",
      "count of G = 0\n",
      "final str size: 333\n",
      "compression rate: 1.2252252252252251\n"
     ]
    },
    {
     "data": {
      "text/plain": [
       "1.2252252252252251"
      ]
     },
     "execution_count": 42,
     "metadata": {},
     "output_type": "execute_result"
    }
   ],
   "source": [
    "#compression\n",
    "\n",
    "def string_size(_str, char_size, remove_char=False):\n",
    "    l = len(_str)\n",
    "    print(f\"str length: {l}\")\n",
    "    str_size = l*char_size\n",
    "    final_size=str_size\n",
    "    print(f\"initial str size: {str_size}\")\n",
    "    if remove_char:\n",
    "        while True:\n",
    "            chosen_char = input(\"input char:\")\n",
    "            if chosen_char==\"quit\":\n",
    "                break\n",
    "            size = int(input(\"input char size: \"))\n",
    "            \n",
    "            count = 0\n",
    "            for c in _str:    \n",
    "                if c == chosen_char:\n",
    "                    count+=1\n",
    "                    final_size -= char_size\n",
    "                    final_size += size\n",
    "            print(f\"count of {chosen_char} = {count}\")\n",
    "    print(f\"final str size: {final_size}\")\n",
    "    compression_rate = str_size/final_size\n",
    "    print(f\"compression rate: {compression_rate}\")\n",
    "\n",
    "    return compression_rate\n",
    "\n",
    "\n",
    "string_size(\"FRIENDS-BUY-YOU-FOOD-BUT-BEST-FRIENDS-EAT-YOUR-FOOD\",8,True)"
   ]
  },
  {
   "cell_type": "code",
   "execution_count": 26,
   "metadata": {},
   "outputs": [
    {
     "name": "stdout",
     "output_type": "stream",
     "text": [
      "Instructions executed in one hour : 18000 million instructions\n",
      "5/11 = 0.455 mips per watt, and 2.2 watts per mips.\n",
      "5/11 = 0.455 mips per watt, and 2.2 watts per mips.\n",
      "Performance per dollar: 150/5 = $30.000 dollars per mips.\n",
      "expense for a year: 4.0 watts per mips, therefore 365 x 24 x 4.0 watt-hours =350.4kWh, costing $35.04.\n",
      "Power Density Volume = 15x15x5 mm = 1125 cubic mm. at 11W this gives 0.009777777777777778 W/mm3 or 9.777777777777777 mW/mm3.\n",
      "Total power = 20 +(2x100)= $220W\n",
      "Total power with sleep = 110.05W\n"
     ]
    },
    {
     "data": {
      "text/plain": [
       "110.05"
      ]
     },
     "execution_count": 26,
     "metadata": {},
     "output_type": "execute_result"
    }
   ],
   "source": [
    "# CPU performance metrics\n",
    "\n",
    "def instructions_per_hour(mips):\n",
    "    result = mips*3600\n",
    "    print(f\"Instructions executed in one hour : {result} million instructions\")\n",
    "    return result\n",
    "\n",
    "instructions_per_hour(5)\n",
    "\n",
    "def mips_per_watt(mips,watt):\n",
    "    m_per_w = mips/watt\n",
    "    w_per_m = watt/mips\n",
    "    print(f\"{mips}/{watt} = {m_per_w:.3f} mips per watt, and {w_per_m} watts per mips.\")\n",
    "    return m_per_w\n",
    "mips_per_watt(5,11)\n",
    "\n",
    "def watt_per_mips(watt, mips):\n",
    "    w_per_m = watt/mips\n",
    "    return w_per_m\n",
    "mips_per_watt(5,11)\n",
    "def performance_per_dollar(cost,mips):\n",
    "    p_per_m = cost/mips\n",
    "\n",
    "    print(f\"Performance per dollar: {cost}/{mips} = ${p_per_m:.3f} dollars per mips.\")\n",
    "    return p_per_m\n",
    "performance_per_dollar(150,5)\n",
    "\n",
    "def expense_for_year(w_per_m, cent_per_hour):\n",
    "    watt_hours = w_per_m * 365 * 24/100\n",
    "    result = watt_hours* cent_per_hour\n",
    "    print(f\"expense for a year: {w_per_m} watts per mips, therefore 365 x 24 x {w_per_m} watt-hours ={watt_hours}kWh, costing ${result}.\")\n",
    "    return result\n",
    "expense_for_year(watt_per_mips(40,10),0.1)\n",
    "\n",
    "def power_density(d1,d2,d3,watt):\n",
    "    # where D1-D3 are dimensions\n",
    "    result = watt/(d1*d2*d3)\n",
    "    print(f\"Power Density Volume = {d1}x{d2}x{d3} mm = {d1*d2*d3} cubic mm. at {watt}W this gives {result} W/mm3 or {result*1000} mW/mm3.\")\n",
    "    return result\n",
    "\n",
    "power_density(15,15,5,11)\n",
    "\n",
    "\n",
    "\n",
    "def cpu_power(staticP, DynamicP , clock_rate, standby, standby_percent):\n",
    "    total = staticP + (DynamicP*clock_rate)\n",
    "    print(f\"Total power = {staticP} +({DynamicP}x{clock_rate})= ${total}W\")\n",
    "\n",
    "    total_with_sleep = standby*standby_percent/100 + total*(100-standby_percent)/100\n",
    "    print(f\"Total power with sleep = {total_with_sleep}W\")\n",
    "    return total_with_sleep\n",
    "cpu_power(20,2,100,0.1,50)\n"
   ]
  },
  {
   "cell_type": "code",
   "execution_count": 28,
   "metadata": {},
   "outputs": [
    {
     "name": "stdout",
     "output_type": "stream",
     "text": [
      "net benefit = 1.20 clocks\n"
     ]
    },
    {
     "data": {
      "text/plain": [
       "1.2000000000000002"
      ]
     },
     "execution_count": 28,
     "metadata": {},
     "output_type": "execute_result"
    }
   ],
   "source": [
    "# Branch prediction\n",
    "\n",
    "def hit_rate_net_benifit(hit_cycle, hit_percentage, miss_cycle):\n",
    "    result = hit_cycle*hit_percentage/100 - miss_cycle * (100-hit_percentage)/100\n",
    "    print(f\"net benefit = {result:.2f} clocks\")\n",
    "    return result\n",
    "\n",
    "hit_rate_net_benifit(2,80,2)"
   ]
  },
  {
   "cell_type": "code",
   "execution_count": 29,
   "metadata": {},
   "outputs": [
    {
     "name": "stdout",
     "output_type": "stream",
     "text": [
      "speedup = 5.2631578947368425\n"
     ]
    }
   ],
   "source": [
    "# Amdahl's Law/ optimization percentage\n",
    "\n",
    "def speedup(parellized_workload, num_processor):\n",
    "    result = 1/((1-parellized_workload) + (parellized_workload/num_processor))\n",
    "    print(f\"speedup = {result}\")\n",
    "\n",
    "speedup(0.9,10)\n",
    "\n"
   ]
  },
  {
   "cell_type": "code",
   "execution_count": 60,
   "metadata": {},
   "outputs": [
    {
     "name": "stdout",
     "output_type": "stream",
     "text": [
      "Data rate = 381.4697265625 MBps  or 400.0 million bytes per second\n",
      "Average read time = 2.4 clocks\n",
      "Average read time = 7.6 clocks\n",
      "Total Average read time = 2.33 clocks\n"
     ]
    },
    {
     "data": {
      "text/plain": [
       "0.84"
      ]
     },
     "execution_count": 60,
     "metadata": {},
     "output_type": "execute_result"
    }
   ],
   "source": [
    "# Memory Access\n",
    "\n",
    "# Data rate\n",
    "\n",
    "def data_rate(read_time, width, clock_rate):\n",
    "    #clock_rate should be MHz if GHz * 1000\n",
    "    result = ((width/8)* 1000000 *clock_rate/read_time)/(1024*1024)\n",
    "    result2 = ((width/8) *clock_rate/read_time)\n",
    "    print(f\"Data rate = {result} MBps  or {result2} million bytes per second\")\n",
    "    return result\n",
    "data_rate(5,16,1000)\n",
    "# 1 level cache\n",
    "def avg_read_time(cache_cycle, memory_read_time, cache_hit_rate):\n",
    "    result = cache_cycle*cache_hit_rate/100 + (cache_cycle + memory_read_time)*(100-cache_hit_rate)/100\n",
    "    print(f\"Average read time = {result} clocks\")\n",
    "    return result\n",
    "avg_read_time(1,8,82.5)\n",
    "\n",
    "# Multilevel cache\n",
    "def avg_read_time2(onchip_cycle, onchip_rate, external_time):\n",
    "    result = onchip_cycle*onchip_rate/100 + (onchip_cycle + external_time)*(100-onchip_rate)/100\n",
    "    print(f\"Total Average read time = {result} clocks\")\n",
    "    return result\n",
    "\n",
    "avg_read_time2(1,82.5,avg_read_time(6,8,80))\n",
    "\n",
    "0.84\n"
   ]
  },
  {
   "cell_type": "code",
   "execution_count": 51,
   "metadata": {},
   "outputs": [
    {
     "name": "stdout",
     "output_type": "stream",
     "text": [
      "1024 locations\n",
      "Bandwidth = 132.0 million bytes per sec or 125.885009765625 MB/s\n",
      "Bandwidth = 24.539877300613497 million bytes per sec or 23.403050709355828 MB/s\n",
      "Asynch Bandwidth = 14.035087719298245 million bytes per sec or 13.384902686403509 MB/s\n",
      "payload/operations = 4.0\n",
      "cycles_per_transaction = 42.0\n",
      "time_for_bytes = 5376.0\n",
      "Bandwidth needed = 190.47619047619048 million bytes per sec or 181.65225074404762 MB/s\n",
      "payload/operations = 2.0\n",
      "cycles_per_transaction = 34.0\n",
      "time_for_bytes = 4352.0\n",
      "Bandwidth needed = 117.6470588235294 million bytes per sec or 112.19697840073529 MB/s\n"
     ]
    },
    {
     "data": {
      "text/plain": [
       "117.6470588235294"
      ]
     },
     "execution_count": 51,
     "metadata": {},
     "output_type": "execute_result"
    }
   ],
   "source": [
    "# Bus \n",
    "\n",
    "def locations_by_adressline(adress_lines):\n",
    "    result = 2**adress_lines\n",
    "    print(f\"{result} locations\")\n",
    "\n",
    "locations_by_adressline(10)\n",
    "\n",
    "# Bus bandwidth/data transfer rate(Million bytes per second)\n",
    "def get_bandwidth(clock_rate, data_width, protocal_overhead, block_size=1):\n",
    "    # overhead = turaround + arbitration\n",
    "    # clock_cycle = frequency MHz\n",
    "    raw_bandwidth = clock_rate* data_width/8\n",
    "    bandwidth = block_size*raw_bandwidth/(protocal_overhead+ block_size)\n",
    "    print(f\"Bandwidth = {bandwidth} million bytes per sec or {bandwidth * 1000000/(1024*1024)} MB/s\")\n",
    "    return bandwidth\n",
    "get_bandwidth(33,32,0)\n",
    "\n",
    "# Bus bandwidth/data transfer rate(Million bytes per second) with nanoseconds\n",
    "\n",
    "# Synchronous\n",
    "def get_bandwidth_nano(transfer_amount, send_address_cycle, send_data_cycle,clock_cycle_time, memory_access_time):\n",
    "    # transfer amount in bytes\n",
    "    # memory_access_time and clock cycle in nano seconds\n",
    "    bandwidth = transfer_amount*1000/((send_address_cycle + send_data_cycle) * clock_cycle_time + memory_access_time)\n",
    "    print(f\"Bandwidth = {bandwidth} million bytes per sec or {bandwidth * 1000000/(1024*1024)} MB/s\")\n",
    "    return bandwidth\n",
    "get_bandwidth_nano(4,1,1,19,125)\n",
    "\n",
    "\n",
    "# Asynchronous\n",
    "def get_bandwidth_nano_as(transfer_amount, handshake_time, memory_access_time, block_size=1):\n",
    "    # transfer amount in bytes\n",
    "    # memory_access_time and clock cycle in nano seconds\n",
    "    bandwidth = transfer_amount*1000/(max(3*handshake_time, memory_access_time) + 3*handshake_time + handshake_time)\n",
    "    print(f\"Asynch Bandwidth = {bandwidth} million bytes per sec or {bandwidth * 1000000/(1024*1024)} MB/s\")\n",
    "    return bandwidth\n",
    "\n",
    "get_bandwidth_nano_as(4,40,125)\n",
    "\n",
    "def get_bandwidth_for_x_bytes(width,transfer_amount, send_address_cycle, send_data_cycle,clock_cycle_time, memory_access_time, idle_cycles=0,block_size=1):\n",
    "    # transfer amount in bytes\n",
    "    # memory_access_time and clock cycle in nano seconds\n",
    "    payload = block_size/(width/8)\n",
    "    print(f\"payload/operations = {payload}\")\n",
    "    # the one below is the cycle for initial read\n",
    "    cycles_per_transaction = (1 + payload*(send_address_cycle+send_data_cycle+idle_cycles) + memory_access_time/clock_cycle_time)\n",
    "    print(f\"cycles_per_transaction = {cycles_per_transaction}\")\n",
    "    time_for_bytes = clock_cycle_time*cycles_per_transaction * transfer_amount/block_size\n",
    "    print(f\"time_for_bytes = {time_for_bytes}\")\n",
    "    bandwidth_for_bytes = transfer_amount*1000/time_for_bytes\n",
    "    print(f\"Bandwidth needed = {bandwidth_for_bytes} million bytes per sec or {bandwidth_for_bytes * 1000000/(1024*1024)} MB/s\")\n",
    "    return bandwidth_for_bytes\n",
    "\n",
    "get_bandwidth_for_x_bytes(64,1024,1,1,4,100,2,32)\n",
    "get_bandwidth_for_x_bytes(128,512,1,1,8,200,2,32)"
   ]
  },
  {
   "cell_type": "code",
   "execution_count": 28,
   "metadata": {},
   "outputs": [
    {
     "name": "stdout",
     "output_type": "stream",
     "text": [
      "rotational latency 8.333333333333334ms\n",
      "\n",
      "rotational latency 8.333333333333334ms\n",
      "time to read one byte = 81.38020833333333nano seconds\n",
      "data rate = 12.288 million bytes or 11.71875 MB/s\n",
      "\n",
      "rotational latency 11.11111111111111ms\n",
      "read_size = 4096 bytes\n",
      "transfer_time = 40.96 mucro seconds\n",
      "total_access_time = 13.11111111111111ms\n",
      "total_read_time = 13.15207111111111ms\n",
      "worst case peak transfer rate = 0.29700645373639506MB/s\n",
      "best case total read time since seek time and latency are 0 = 40.96us\n",
      "best case peak transfer rate = 95.367431640625MB/s\n",
      "average case peak transfer rate = 0.59216869377503MB/s\n",
      "\n",
      "rotational latency 11.11111111111111ms\n",
      "read_size = 4092 bytes\n",
      "transfer_time = 0.04092 mucro seconds\n",
      "contiguous  = 13.15203111111111ms\n",
      "fragmented  = 26.22224222222222ms\n",
      "average  = 19.687136666666667ms\n"
     ]
    }
   ],
   "source": [
    "# Storage\n",
    "import math\n",
    "def rotational_latency(rpm):\n",
    "    # result is in ms\n",
    "    result = 60/ rpm\n",
    "    print(f\"rotational latency {result*1000}ms\")\n",
    "    return result\n",
    "rotational_latency(7200)\n",
    "print()\n",
    "def data_rate_storage(latency, sectors, sector_size):\n",
    "    # sector_size in bytes\n",
    "    # latency in seconds\n",
    "    time_to_read_one_byte = latency/(sectors*sector_size)\n",
    "    print(f\"time to read one byte = {time_to_read_one_byte*1000000000}nano seconds\")\n",
    "    data_rate  = 1/time_to_read_one_byte\n",
    "    print(f\"data rate = {data_rate/1000000} million bytes or {data_rate/(1024*1024)} MB/s\")\n",
    "\n",
    "data_rate_storage(rotational_latency(7200),100,1024)\n",
    "print()\n",
    "def peak_data_transfer_rate(seek_time,latency,data_rate, file_size, sector_size):\n",
    "    #seek time = head movement in ms\n",
    "    # latency in seconds\n",
    "    read_size = math.ceil(file_size/sector_size) * sector_size\n",
    "    print(f\"read_size = {read_size} bytes\")\n",
    "    transfer_time = read_size/ data_rate\n",
    "    print(f\"transfer_time = {transfer_time} mucro seconds\")\n",
    "    total_access_time = latency*1000 + seek_time\n",
    "    print(f\"total_access_time = {total_access_time}ms\")\n",
    "    total_read_time = total_access_time + transfer_time/1000\n",
    "    print(f\"total_read_time = {total_read_time}ms\")\n",
    "    worst_case = (read_size/total_read_time)*1000/(1024*1024)\n",
    "    print(f\"worst case peak transfer rate = {worst_case}MB/s\")\n",
    "    best_case = (1000000*read_size/transfer_time)/(1024*1024)\n",
    "    print(f\"best case total read time since seek time and latency are 0 = {transfer_time}us\")\n",
    "    print(f\"best case peak transfer rate = {best_case}MB/s\")\n",
    "    avg_time = (total_read_time+transfer_time/1000)/2\n",
    "    avg_case = (1000*read_size/avg_time)/(1024*1024)\n",
    "    print(f\"average case peak transfer rate = {avg_case}MB/s\")\n",
    "\n",
    "\n",
    "peak_data_transfer_rate(2,rotational_latency(5400),100,3*1024,2*1024)\n",
    "print()\n",
    "# Fragmentation\n",
    "def fragmentation_time(seektime,latency,data_rate, sector_size,file_size, fragments):\n",
    "    read_size = math.ceil(file_size/sector_size) * sector_size\n",
    "    print(f\"read_size = {read_size} bytes\")\n",
    "    transfer_time = read_size/ (data_rate*1000)\n",
    "    print(f\"transfer_time = {transfer_time} mucro seconds\")\n",
    "    contiguous = seektime+ latency*1000 + transfer_time\n",
    "    fragmented = (seektime + latency*1000+ transfer_time/read_size)*fragments\n",
    "    print(f\"contiguous  = {contiguous}ms\")\n",
    "    print(f\"fragmented  = {fragmented}ms\")\n",
    "\n",
    "fragmentation_time(2,rotational_latency(5400),100,2046,3*1024,2)\n",
    "\n"
   ]
  }
 ],
 "metadata": {
  "kernelspec": {
   "display_name": "base",
   "language": "python",
   "name": "python3"
  },
  "language_info": {
   "codemirror_mode": {
    "name": "ipython",
    "version": 3
   },
   "file_extension": ".py",
   "mimetype": "text/x-python",
   "name": "python",
   "nbconvert_exporter": "python",
   "pygments_lexer": "ipython3",
   "version": "3.10.9"
  }
 },
 "nbformat": 4,
 "nbformat_minor": 2
}
