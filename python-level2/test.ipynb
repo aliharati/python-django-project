{
 "cells": [
  {
   "cell_type": "code",
   "execution_count": 8,
   "metadata": {},
   "outputs": [
    {
     "data": {
      "text/plain": [
       "[[],\n",
       " [[], [[], [4], [3], []], [2], [4], [[], [3], [2], []], []],\n",
       " [1],\n",
       " [[], [4], [3], []],\n",
       " [[], [2], [1], []],\n",
       " [4],\n",
       " [[], [[], [3], [2], []], [1], [3], [[], [2], [1], []], []],\n",
       " []]"
      ]
     },
     "execution_count": 8,
     "metadata": {},
     "output_type": "execute_result"
    }
   ],
   "source": [
    "s = []\n",
    "n = [1,2,3,4]\n",
    "\n",
    "def subsets(nums):\n",
    "        subset = []\n",
    "        if len(nums)==1:\n",
    "            return [nums[0]]\n",
    "        for i in range(len(nums)):\n",
    "            subset.extend(subsets(nums[0:i]))\n",
    "            subset.extend(subsets(nums[i+1:]))\n",
    "        return subset\n",
    "subsets(n)"
   ]
  }
 ],
 "metadata": {
  "kernelspec": {
   "display_name": "myDjangoEnv",
   "language": "python",
   "name": "python3"
  },
  "language_info": {
   "codemirror_mode": {
    "name": "ipython",
    "version": 3
   },
   "file_extension": ".py",
   "mimetype": "text/x-python",
   "name": "python",
   "nbconvert_exporter": "python",
   "pygments_lexer": "ipython3",
   "version": "3.10.9"
  }
 },
 "nbformat": 4,
 "nbformat_minor": 2
}
